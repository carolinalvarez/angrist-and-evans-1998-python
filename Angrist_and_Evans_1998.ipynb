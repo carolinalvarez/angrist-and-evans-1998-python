{
 "cells": [
  {
   "cell_type": "markdown",
   "metadata": {},
   "source": [
    "--- \n",
    "Microeconometrics | Summer 2021 | M.Sc. Economics, Bonn University \n",
    "\n",
    "# Replication of Angrist, J., and Evans, W. (1998). \"Children and Their Parent's Labor Supply: Evidence from Exogenous Variation in Family Size\". <a class=\"tocSkip\">   \n",
    "\n",
    "[Carolina Alvarez Garavito](https://github.com/carolinalvarez)\n",
    "---"
   ]
  },
  {
   "cell_type": "markdown",
   "metadata": {},
   "source": [
    "**Angrist, J.D., & Evans, W.N. (1998).** [Children and Their Parents' Labor Supply: Evidence from Exogenous Variation in Family Size](https://www.jstor.org/stable/116844?seq=1). *The American Economic Review*, 88(3). 450-477. "
   ]
  },
  {
   "cell_type": "markdown",
   "metadata": {},
   "source": [
    "# Table of contents\n",
    "* [Introduction](#Introduction)\n",
    "* [Identification Strategy](#Identification)\n",
    "* [Empirical Methodology](#Empirical-Methodology)\n",
    "* [Replication Angrist & Evans (1998)](#Replication-of-Angrist-&-Evans-(1998))\n",
    " * [Data & Descriptive Statistics](#Data-&-Descriptive-Statistics)"
   ]
  },
  {
   "cell_type": "code",
   "execution_count": 1,
   "metadata": {},
   "outputs": [],
   "source": [
    "%matplotlib inline\n",
    "#!pip install linearmodels\n",
    "#!pip install stargazer\n",
    "import numpy as np\n",
    "import pandas as pd\n",
    "import pandas.io.formats.style\n",
    "import seaborn as sns\n",
    "import statsmodels as sm\n",
    "import statsmodels.formula.api as smf\n",
    "import statsmodels.api as sm_api\n",
    "from linearmodels.iv import IV2SLS\n",
    "import matplotlib as plt\n",
    "import matplotlib.pyplot as plt\n",
    "import copy\n",
    "from IPython.display import HTML\n",
    "from stargazer.stargazer import Stargazer\n",
    "from statsmodels.api import add_constant\n",
    "from functools import reduce"
   ]
  },
  {
   "cell_type": "code",
   "execution_count": 2,
   "metadata": {},
   "outputs": [],
   "source": [
    "from auxiliary.auxiliary_data_preparation import ( \n",
    "    data_preparation_1980,\n",
    "    data_preparation_1990,\n",
    "    get_data_all_women_1980,\n",
    "    get_data_all_women_1990,\n",
    "    data_preparation_married_couples,\n",
    "    data_preparation_married_couples_1990,\n",
    "    rename_interactions_earnings,\n",
    "    families_one_more_kid\n",
    ")\n",
    "\n",
    "from auxiliary.auxiliary_statistics import ( \n",
    "    table_sum_stats,\n",
    "    table_sum_stats_husbands, \n",
    "    Table_3_panel_1,\n",
    "    Table_3_panel_2,\n",
    "    difference_means\n",
    ")\n",
    "\n",
    "from auxiliary.auxiliary_plots import ( \n",
    "    plot_distribution\n",
    ")\n",
    "\n",
    "from auxiliary.auxiliary_regressions import ( \n",
    "    OLS_Regressions_more2k,\n",
    "    OLS_Labor_Supply_Models,\n",
    "    OLS_Labor_Supply_Interactions_wifes,\n",
    "    OLS_Labor_Supply_Interactions_husbands,\n",
    "    OLS_Labor_Supply_First_Stage_wifes,\n",
    "    OLS_Labor_Supply_First_Stage_husbands,\n",
    "    IV_Labor_Supply_Interactions,\n",
    "    mean_samples,\n",
    "    IV_Comparison_Models,\n",
    "    mean_differences_instruments,\n",
    "    wald_estimates_regressions\n",
    ")"
   ]
  },
  {
   "cell_type": "markdown",
   "metadata": {},
   "source": [
    "---\n",
    "# Introduction \n",
    "---"
   ]
  },
  {
   "cell_type": "markdown",
   "metadata": {},
   "source": [
    "---\n",
    "# Identification\n",
    "--- \n",
    "![causal graph1](files/causal_graph_v1.png)\n"
   ]
  },
  {
   "cell_type": "markdown",
   "metadata": {},
   "source": [
    "Angrist and Evans (1998) study the causal mechanisms between fertility and the work effort of both men and women. The authors begin by explaining the theoretical and practical reasons of studying the relationship between fertility and labor supply. First, there has been development of economic models that link the family and the labor market. Second, the relationship between fertility and labor supply could explain the increase of women's participation in the labor market in the post-war period, where having fewer children could have increased the female labor-force share. Meanwhile, other studies have linked fertility with female withdraws from the labor market and lower wages compared to men.\n",
    "\n",
    "The mayority of empirical studies related to childbearing and labor supply find a negative correlation between family size (i.e., fertility) and female labor force. However, in his assesment of Economics of the Family, Robert J. Willis argues that there has not been well-measured exogenous variables that allow to separate cause and effect relationships from correlations among variables such as delay of marriage, decline of childbearing, increase in divorces, and increase in female labor force participation.\n",
    "\n",
    "In this vein, the authors argue that the problems concerning the causal association between family size and labor supply arises from the theoretical argument that both factors are jointly determinated. For example, some labor-supply econometric models often use child-status variables as regressors on hours of work. On the other hand, economic demographers usually measure the effect of wages on fertility. According to the authors, \"*since fertility variables cannot be both dependent and exogenous at the same time, it seems unlikely that either sort of regression has a causal interpretation*\". \n",
    "\n",
    "Angrist and Evans (1998) contribute by using an **instrumental variable strategy (IV)** based on the sex-mix of children in families with two or more kids. This captures parental preferences for mixed-sex siblings, where parents of same-sex children are much more likely to have an additional child.\n",
    "\n",
    "**Endogeneity Problem**\n",
    "\n",
    "<center>Fertility 🠊 Labor supply</center>\n",
    "<center>Labor supply 🠊 Fertility </center>\n",
    "\n",
    "**Instrument** \n",
    "\n",
    "<center>Dummy variable for whether the sex of the second child matches the sex of the first child</center> "
   ]
  },
  {
   "cell_type": "markdown",
   "metadata": {},
   "source": [
    "---\n",
    "# Empirical Methodology\n",
    "## Casual estimation with a Binary IV\n",
    "\n",
    "\\begin{equation}\n",
    "Y = \\alpha + \\delta D + \\epsilon\n",
    "\\end{equation}\n",
    "\n",
    "\\begin{equation}\n",
    "E[Y] = E[\\alpha + \\delta D + \\epsilon]= \\alpha + \\delta E[D] + E[\\epsilon]\n",
    "\\end{equation}\n",
    "\n",
    "We re-write it as a difference equation in Z and divide both sides by $ E[D|Z=1] - E[D|Z=0]$ which yields:\n",
    "\n",
    "\\begin{equation}\n",
    "\\frac{E[Y|Z=1]-E[Y|Z=0]}{E[D|Z=1]-E[D|Z=0]} =\\frac{\\delta (E[D|Z=1]-E[D|Z=0]) + (E[\\epsilon|Z=1]-E[\\epsilon|Z=0])}{E[D|Z=1]-E[D|Z=0]}\n",
    "\\end{equation}\n",
    "\n",
    "If the data holds for the causal graph despicted above, then $Z$ has no association with $ /epsilon$ and therefore:\n",
    "\n",
    "\\begin{equation}\n",
    "\\frac{E[Y|Z=1]-E[Y|Z=0]}{E[D|Z=1]-E[D|Z=0]} =\\delta\n",
    "\\end{equation}\n",
    "\n",
    "Under these conditions, the ratio of the population-level association between Y and Z and between D and Z is equal to the causal effect of D on Y. Then, if $Z$ is associated with $D$ but not with $/upvarepsilon$, then the following is the IV-Estimator for infinite samples:\n",
    "\n",
    "\\begin{equation}\n",
    "\\hat{\\delta}_{IV,WALD} = \\frac{E_N[y_i|z_i=1] - E_N[y_i|z_i=0]}{E_N[d_i|z_i=1] - E_N[d_i|z_i=0]}\n",
    "\\end{equation}\n",
    "\n",
    "This is the IV-Estimator, which is known as the Wald Estimator when the instrument is binary. The wald estimator takes the average difference in the observed outcome of those who were exposed to the instrumental variable and of those who were not. Then it takes the average difference between the ones in the treatment group who took the treatment and those in the tratment group who did not receive the treatment.\n",
    "\n",
    "## IV Estimation as LATE Estimation\n",
    "\n",
    "Imbends and Angrist (1994) developed a framework for classifiying individuals as: i) those who respond positively to an instrument; ii) those who remain unaffected by the instrument; iii) those who rebel against the instrument. When $D$ and $Z$ are binary variables, then they are four possible group of individuals:\n",
    "\n",
    "| Status                                    |Potential treatment assignment         | \n",
    "| ------------------------------------------|:-------------------------------------:| \n",
    "| Compliers ($\\tilde{C}=c$)                 | $D^{Z=0}=0; D^{Z=1}=1$                | \n",
    "| Defiers ($\\tilde{C}=d$)                   | $D^{Z=0}=1 D^{Z=1}=0$                 | \n",
    "| Always takers ($\\tilde{C}=a$)             | $D^{Z=0}=1 D^{Z=1}=1$                 |  \n",
    "| Never takers ($\\tilde{C}=n$)              | $D^{Z=0}=0 D^{Z=1}=0$                 |   \n",
    "\n",
    "\n",
    "A valid instrument $Z$ for the casual effect of $D$ on $Y$ must satisfy three assumptions in order to identify the **LATE**:\n",
    "\n",
    "* Independence assumption: ($Y^{1}, Y^{0}, D^{Z=1}, D^{Z=0} \\indep Z$)\n",
    "\n",
    "This is analogous to the assumption that $cov(Z, \\varepsilon)=0$ in the traditinal IV litera\n",
    "* Non-zero effect of instrument assumption: $k \\neq 0$ for all $i$\n",
    "* Monotonicity assumption: either $k \\geq 0$ for all $i$ or $k \\leq 0$ for all $i$ \n",
    "\n",
    "\n",
    "---"
   ]
  },
  {
   "cell_type": "markdown",
   "metadata": {},
   "source": [
    "---\n",
    "# Replication of Angrist & Evans (1998)\n",
    "---"
   ]
  },
  {
   "cell_type": "markdown",
   "metadata": {},
   "source": [
    "## A. Data & Descriptive Statistics\n",
    "\n",
    "Angrist and Evans (1998) use two extracts from the Census Public Use Micro Samples(PUMS) that correspond to the year 1980 and 1990 respectively. The Census contains information on labor supply, the sex of mother's first two children, and an indicator of multiple births.\n",
    "\n",
    "However, there is no retrospective fertility information in the PUMS data sets other than the total number of children ever born. That means, the census does not track children across households. The authors thus matched children to mothers within households accordingly to the following strategy: they attached people in a household labeled as *child* to a female householder or the spouse of a male householder. They deleted any mother for whom the number of children in the household did not match the total amount of children ever born. Also, in households with multiple families, relationship codes and subfamily identifiers were used to pair children with mothers.\n",
    "\n",
    "The sample is then limited to mothers aged 21-35 whose oldest child was less than 18 years old at the time of the Census. There are two main reasons to restrict the data in such fashion. First, few women younger than age 21 have two children, thus taking into account younger women will decrease the number of observations for the instrumental variable *more than two children* . Second, a child over 18 is very likely to have moved to a different household. It is very unlikely that a woman aged 35 years old at the time of the census has a child 18 year old or more. Thus, restricting the sample to women aged 35 or less assures that the two children are still living in the household and therefore, still be financially dependent from their parents.\n",
    "\n",
    "For the empirical analysis, the authors use two samples for each year of census. The first includes all women (after restricting the sample to mothers aged 21-35) with two or more children. The second sample includes only married women for testing the main theories of household production (e.g., Gronau, 1973) and exploring the impact of children as well on father's labor supply.\n",
    "\n",
    "The following table summarizes the samples created by the authors and used for the empirical analysis:\n",
    "\n",
    "\n",
    "| Year        | Sample        | Description                                                            |\n",
    "| :----       | :----         |:----                                                                   |\n",
    "| 1980        | Full sample   | Woman with two or more children, age 21-35 years old                   |\n",
    "|             | Married sample| Couples married at time of census, only once and at time of first birth|                   \n",
    "| 1990        | Full sample   | Woman with two or more children, age 21-35 years old                   |            \n",
    "|             |Married sample | Woman married at time of census                                        |                                \n",
    "\n",
    "Variables with information on timing of first marriage and the number of marriages is not available in the 1990 PUMS; thereore, for building the 1990 married sample, only the variable wheter the woman was married at the time of the census is considered."
   ]
  },
  {
   "cell_type": "code",
   "execution_count": 3,
   "metadata": {},
   "outputs": [],
   "source": [
    "census_1_1980 = pd.read_stata(\"data/m_d_806_1.dta\")\n",
    "census_2_1980 = pd.read_stata(\"data/m_d_806_2.dta\")\n",
    "data_1980=census_1_1980.append(census_2_1980, ignore_index=False, verify_integrity=False, sort=False)\n",
    "data_1980=data_preparation_1980(data_1980)"
   ]
  },
  {
   "cell_type": "code",
   "execution_count": null,
   "metadata": {},
   "outputs": [],
   "source": [
    "census_1_1990 = pd.read_stata(\"data/m_d_903_1.dta\")\n",
    "census_2_1990 = pd.read_stata(\"data/m_d_903_2.dta\")\n",
    "census_3_1990 = pd.read_stata(\"data/m_d_903_3.dta\")\n",
    "data_1990=census_1_1990.append([census_2_1990, census_3_1990], ignore_index=False, verify_integrity=False, sort=False)\n",
    "data_1990=data_preparation_1990(data_1990)"
   ]
  },
  {
   "cell_type": "markdown",
   "metadata": {},
   "source": [
    "---\n",
    "<span style=\"color:coral\">**NOTE**:</span> The original data provided by the authors can be found [here](https://economics.mit.edu/faculty/angrist/data1/data/angev98). For this replication the data is split into several .dta-files due to GitHub size constraints.\n",
    "\n",
    "---"
   ]
  },
  {
   "cell_type": "code",
   "execution_count": null,
   "metadata": {},
   "outputs": [],
   "source": [
    "data_1980.describe()"
   ]
  },
  {
   "cell_type": "code",
   "execution_count": null,
   "metadata": {},
   "outputs": [],
   "source": [
    "data_1990.describe()"
   ]
  },
  {
   "cell_type": "code",
   "execution_count": null,
   "metadata": {},
   "outputs": [],
   "source": [
    "data_1980.head()"
   ]
  },
  {
   "cell_type": "code",
   "execution_count": null,
   "metadata": {},
   "outputs": [],
   "source": [
    "data_1990.head()"
   ]
  },
  {
   "cell_type": "code",
   "execution_count": 4,
   "metadata": {},
   "outputs": [
    {
     "name": "stdout",
     "output_type": "stream",
     "text": [
      "The sample of all women for 1980 aged between 21 and 35 with second kid no older than 1 year old has 394840 observations.\n"
     ]
    }
   ],
   "source": [
    "data_all_women_1980=get_data_all_women_1980(data_1980)\n",
    "print(\"The sample of all women for 1980 aged between 21 and 35 with second kid no older than 1 year old has\", len(data_all_women_1980), \"observations.\")"
   ]
  },
  {
   "cell_type": "code",
   "execution_count": null,
   "metadata": {},
   "outputs": [],
   "source": [
    "data_all_women_1990=get_data_all_women_1990(data_1990)\n",
    "print(\"The sample of all women for 1990 aged between 21 and 35 with second kid no older than 1 year old has\", len(data_all_women_1990), \"observations.\")"
   ]
  },
  {
   "cell_type": "code",
   "execution_count": null,
   "metadata": {
    "scrolled": true
   },
   "outputs": [],
   "source": [
    "data_all_women_1980.head()"
   ]
  },
  {
   "cell_type": "code",
   "execution_count": 5,
   "metadata": {},
   "outputs": [],
   "source": [
    "data_all_women_1980=data_preparation_married_couples(data_all_women_1980)"
   ]
  },
  {
   "cell_type": "code",
   "execution_count": 6,
   "metadata": {},
   "outputs": [
    {
     "name": "stdout",
     "output_type": "stream",
     "text": [
      "The sample of married couples has 254652 observations.\n"
     ]
    }
   ],
   "source": [
    "#creating the sample for married couples 1980\n",
    "\n",
    "msample_1980=data_all_women_1980[(data_all_women_1980['TIMESMAR']==1) & (data_all_women_1980['MARITAL']==0) & (data_all_women_1980['illegit']==0) & (data_all_women_1980['agefstd']>=15) &\n",
    "            (data_all_women_1980['agefstm']>=15) & (data_all_women_1980[\"AGED\"]!=np.NaN)]\n",
    "\n",
    "print(\"The sample of married couples has\", len(msample_1980), \"observations.\")"
   ]
  },
  {
   "cell_type": "code",
   "execution_count": null,
   "metadata": {},
   "outputs": [],
   "source": [
    "data_all_women_1990=data_preparation_married_couples_1990(data_all_women_1990)"
   ]
  },
  {
   "cell_type": "code",
   "execution_count": null,
   "metadata": {},
   "outputs": [],
   "source": [
    "#creating the sample for married couples 1990\n",
    "\n",
    "msample_1990=data_all_women_1990[(data_all_women_1990['MARITAL']==0) & (data_all_women_1990['agefstd']>=15) &\n",
    "            (data_all_women_1990['agefstm']>=15) & (data_all_women_1990[\"AGED\"]!=np.NaN)]\n",
    "\n",
    "print(\"The sample of married couples for 1990 has\", len(msample_1990), \"observations.\")"
   ]
  },
  {
   "cell_type": "code",
   "execution_count": null,
   "metadata": {},
   "outputs": [],
   "source": [
    "#Creating sample of only middle income husbands 1980\n",
    "sample_middle_third=msample_1980[msample_1980[\"husband_distribution\"]==\"middle_third\"].copy()\n",
    "\n",
    "print(\"The sample of married couples whos husband belongs to the middle income distribution has\", len(sample_middle_third), \"observations.\")"
   ]
  },
  {
   "cell_type": "code",
   "execution_count": null,
   "metadata": {},
   "outputs": [],
   "source": [
    "#Creating sample of only middle income husbands 1990\n",
    "sample_middle_third_1990=msample_1990[msample_1990[\"husband_distribution\"]==\"middle_third\"].copy()\n",
    "\n",
    "print(\"The sample of married couples whos husband belongs to the middle income distribution for the 1990 Census has\", len(sample_middle_third_1990), \"observations.\")"
   ]
  },
  {
   "cell_type": "code",
   "execution_count": null,
   "metadata": {},
   "outputs": [],
   "source": [
    "sample_middle_third=rename_interactions_earnings(sample_middle_third)"
   ]
  },
  {
   "cell_type": "code",
   "execution_count": null,
   "metadata": {},
   "outputs": [],
   "source": [
    "sample_middle_third_1990=rename_interactions_earnings(sample_middle_third_1990)"
   ]
  },
  {
   "cell_type": "code",
   "execution_count": 7,
   "metadata": {},
   "outputs": [],
   "source": [
    "#Samples of moms by education 1980\n",
    "sample01=msample_1980[msample_1980[\"lessgrad\"]==1]\n",
    "sample02=msample_1980[msample_1980[\"hsgrad\"]==1]\n",
    "sample03=msample_1980[msample_1980[\"moregrad\"]==1]"
   ]
  },
  {
   "cell_type": "code",
   "execution_count": null,
   "metadata": {},
   "outputs": [],
   "source": [
    "#Samples of moms by education 1990\n",
    "sample04=msample_1990[msample_1990[\"lessgrad\"]==1]\n",
    "sample05=msample_1990[msample_1990[\"hsgrad\"]==1]\n",
    "sample06=msample_1990[msample_1990[\"moregrad\"]==1]"
   ]
  },
  {
   "cell_type": "code",
   "execution_count": null,
   "metadata": {},
   "outputs": [],
   "source": [
    "# Creating the marriaged sample out of total sample of moms 1980\n",
    "\n",
    "data_1980[\"qtrmar\"] = np.where((data_1980[\"QTRMAR\"] >= 0), data_1980[\"QTRMAR\"] - 1, data_1980[\"QTRMAR\"])\n",
    "\n",
    "data_1980[\"yom\"] = np.where((data_1980[\"QTRBTHM\"] <= data_1980[\"qtrmar\"]), data_1980[\"YOBM\"] + data_1980[\"AGEMAR\"], data_1980[\"YOBM\"] + data_1980[\"AGEMAR\"]+1)\n",
    "\n",
    "    \n",
    "data_1980[\"dom_q\"]=(data_1980.yom + (data_1980.qtrmar)/4)\n",
    "data_1980[\"do1b_q\"]=(data_1980.YOBK + (data_1980.QTRBKID)/4)\n",
    "\n",
    "data_1980[\"illegit\"]= np.NaN\n",
    "data_1980.loc[data_1980[\"dom_q\"] - data_1980[\"do1b_q\"] > 0, \"illegit\"] = 1\n",
    "data_1980.loc[data_1980[\"dom_q\"] - data_1980[\"do1b_q\"] <= 0, \"illegit\"] = 0\n",
    "\n",
    "#creating the sample for married couples  out of total sample of moms 1980\n",
    "\n",
    "msample_total_1980=data_1980[((data_1980['AGEM']>=21) & (data_1980['AGEM']<=35)) & (data_1980['TIMESMAR']==1) & (data_1980['MARITAL']==0) & (data_1980['illegit']==0) & (data_1980['agefstd']>=15) & \n",
    "            (data_1980['agefstm']>=15) & (data_1980[\"AGED\"]!=np.NaN)]"
   ]
  },
  {
   "cell_type": "code",
   "execution_count": null,
   "metadata": {},
   "outputs": [],
   "source": [
    "#creating the sample for married couples  out of total sample of moms 1990\n",
    "\n",
    "msample_total_1990=data_1990[(data_1990['MARITAL']==0) & (data_1990['agefstd']>=15) &\n",
    "            (data_1990['agefstm']>=15) & (data_1990[\"AGED\"]!=np.NaN)]\n",
    "\n",
    "print(\"The sample of married couples for 1990 has\", len(msample_total_1990), \"observations.\")"
   ]
  },
  {
   "cell_type": "code",
   "execution_count": null,
   "metadata": {},
   "outputs": [],
   "source": [
    "data_all_women_1980_one=families_one_more_kid(data_1980)\n",
    "data_all_women_1980_one=data_preparation_married_couples(data_all_women_1980_one)"
   ]
  },
  {
   "cell_type": "code",
   "execution_count": null,
   "metadata": {},
   "outputs": [],
   "source": [
    "data_all_women_1990_one=families_one_more_kid(data_1990)"
   ]
  },
  {
   "cell_type": "code",
   "execution_count": null,
   "metadata": {},
   "outputs": [],
   "source": [
    "msample_1980_one=data_all_women_1980_one[(data_all_women_1980_one['TIMESMAR']==1) & (data_all_women_1980_one['MARITAL']==0) & (data_all_women_1980_one['illegit']==0) & (data_all_women_1980_one['agefstd']>=15) &\n",
    "            (data_all_women_1980_one['agefstm']>=15) & (data_all_women_1980_one[\"AGED\"]!=np.NaN)]"
   ]
  },
  {
   "cell_type": "code",
   "execution_count": null,
   "metadata": {},
   "outputs": [],
   "source": [
    "msample_1990_one=data_all_women_1990_one[(data_all_women_1990_one['MARITAL']==0) & (data_all_women_1990_one['agefstd']>=15)\n",
    "                                         & (data_all_women_1990_one['agefstm']>=15) & (data_all_women_1990_one[\"AGED\"]!=np.NaN)]"
   ]
  },
  {
   "cell_type": "code",
   "execution_count": null,
   "metadata": {},
   "outputs": [],
   "source": [
    "plot_distribution(msample_1980, \"total_incomed\")\n",
    "msample_1980[\"total_incomed\"].mean()"
   ]
  },
  {
   "cell_type": "code",
   "execution_count": null,
   "metadata": {},
   "outputs": [],
   "source": [
    "msample_1980['husband_distribution'].value_counts().plot(kind='bar')"
   ]
  },
  {
   "cell_type": "code",
   "execution_count": null,
   "metadata": {},
   "outputs": [],
   "source": [
    "income_dad_density=plt.figure(figsize=(8,8))\n",
    "income_dad_density=plt.xlim(0,400000)\n",
    "income_dad_density=plt.xlabel('Total Income Dad')\n",
    "income_dad_density=plt.ylabel('Density')\n",
    "income_dad_density=sns.kdeplot(msample_1980['total_incomed'],shade=True)\n",
    "income_dad_density"
   ]
  },
  {
   "cell_type": "markdown",
   "metadata": {},
   "source": [
    "**Table 2| Part 1: Descriptive Statistics, Women aged 21-35 with 2 or more children - 1980 PUMS**"
   ]
  },
  {
   "cell_type": "code",
   "execution_count": null,
   "metadata": {},
   "outputs": [],
   "source": [
    "#Table 2 for 1980\n",
    "table1_1=table_sum_stats(data_all_women_1980)\n",
    "table1_2=table_sum_stats(msample_1980)\n",
    "table1_3=table_sum_stats_husbands(msample_1980)\n",
    "data_frames = [table1_1, table1_2, table1_3]\n",
    "Table2_1980 = reduce(lambda  left,right: pd.merge(left,right,on=['Variable'],\n",
    "                                            how='left'), data_frames)\n",
    "\n",
    "Table2_1980.rename(columns = {'Mean_x':'All women (mean)', \n",
    "                       'Std. Dev._x':'All women (std.dev)',\n",
    "                       'Mean_y':'Married women (mean)',\n",
    "                      'Std. Dev._y':'Married women (std.dev)',\n",
    "                      'Mean':'Husbands (mean)',\n",
    "                      'Std. Dev.':'Husbands (std.dev)'}, \n",
    "            inplace = True)\n",
    "\n",
    "Table2_1980=Table2_1980[[\"Variable\", \"All women (mean)\", \"All women (std.dev)\", \"Married women (mean)\", \"Married women (std.dev)\", 'Husbands (mean)', \"Husbands (std.dev)\"]]\n",
    "Table2_1980 = Table2_1980.replace(np.nan, '-', regex=True)\n",
    "\n",
    "print(\"The sample of all women for 1980 has\", len(data_all_women_1980), \"observations, while the sample for married couples has\" , len(msample_1980), \"observations\")\n",
    "Table2_1980"
   ]
  },
  {
   "cell_type": "markdown",
   "metadata": {},
   "source": [
    "**Table 2| Part 2: Descriptive Statistics, Women aged 21-35 with 2 or more children - 1990 PUMS**"
   ]
  },
  {
   "cell_type": "code",
   "execution_count": null,
   "metadata": {},
   "outputs": [],
   "source": [
    "#Table 2 for 1990\n",
    "table1_1=table_sum_stats(data_all_women_1990)\n",
    "table1_2=table_sum_stats(msample_1990)\n",
    "table1_3=table_sum_stats_husbands(msample_1990)\n",
    "data_frames = [table1_1, table1_2, table1_3]\n",
    "Table2_1990 = reduce(lambda  left,right: pd.merge(left,right,on=['Variable'],\n",
    "                                            how='left'), data_frames)\n",
    "\n",
    "Table2_1990.rename(columns = {'Mean_x':'All women (mean)', \n",
    "                       'Std. Dev._x':'All women (std.dev)',\n",
    "                       'Mean_y':'Married women (mean)',\n",
    "                      'Std. Dev._y':'Married women (std.dev)',\n",
    "                      'Mean':'Husbands (mean)',\n",
    "                      'Std. Dev.':'Husbands (std.dev)'}, \n",
    "            inplace = True)\n",
    "\n",
    "Table2_1990=Table2_1990[[\"Variable\", \"All women (mean)\", \"All women (std.dev)\", \"Married women (mean)\", \"Married women (std.dev)\", 'Husbands (mean)', \"Husbands (std.dev)\"]]\n",
    "Table2_1990 = Table2_1990.replace(np.nan, '-', regex=True)\n",
    "print(\"The sample of all women for 1990 has\", len(data_all_women_1990), \"observations, while the sample for married couples has\" , len(msample_1990), \"observations\")\n",
    "Table2_1990"
   ]
  },
  {
   "cell_type": "markdown",
   "metadata": {},
   "source": [
    "Table 2 part 1 provides information on statistics and variable definition for covariates, instruments and dependent variables later used in the empirical analysis for the 1980 census data, while Table 2 part 2 provides the same information for 1990 census data. \n",
    "\n",
    "The covariate of main interest is *more than two children* and the first instrumental variable for this covariate is *same sex*, described as if the first two children were the same gender. The table also shows the two components of *same sex*, which are *two boys* and *two girls*. Just as stated in Angrist and Evans (1998), among all the women who already had a second child, 40.2 percent had a third, where the correspoding fraction for the 1990 sample is 37 percent. For both samples, around 50% of all the families with two childs have children of the same gender and above 51% of first births correspond to a boy.\n",
    "\n",
    "Meanwhile, another instrument used in the empirical analysis correspond to multiple births, or *twins*. In the 1980 PUMS, multiple births is constructed as siblings who have the same age and quarter of birth (note: for the construction of this indicator, the age of the second and third child was used; this means, the twin birth corresponds to the mother's second birth). For the 1980 PUMS, the mean of *twins* is 0.09 for the sample of all women and 0.08 for the sample of married women. Since the variable quarter of birth is not reported for the 1990 PUMS dataset, the multiple birth variable was defined as children who have the same age."
   ]
  },
  {
   "cell_type": "code",
   "execution_count": null,
   "metadata": {},
   "outputs": [],
   "source": [
    "Table3_1_1=Table_3_panel_1(data_all_women_1980_one)\n",
    "Table3_1_2=Table_3_panel_1(msample_1980_one)\n",
    "Table3_2_1=Table_3_panel_2(data_all_women_1980)\n",
    "Table3_2_2=Table_3_panel_2(msample_1980)\n",
    "\n",
    "keys = ['All women, PUMS 1980', 'Married women, PUMS 1980']\n",
    "frames1 = [Table3_1_1, Table3_1_2]\n",
    "frames2 = [Table3_2_1, Table3_2_2]\n",
    "table3_1 = pd.concat(frames1, axis=1, keys=keys) \n",
    "table3_2 = pd.concat(frames2, axis=1, keys=keys)"
   ]
  },
  {
   "cell_type": "code",
   "execution_count": null,
   "metadata": {},
   "outputs": [],
   "source": [
    "table3_1"
   ]
  },
  {
   "cell_type": "code",
   "execution_count": null,
   "metadata": {},
   "outputs": [],
   "source": [
    "table3_2"
   ]
  },
  {
   "cell_type": "code",
   "execution_count": null,
   "metadata": {},
   "outputs": [],
   "source": [
    "Table3_1_1=Table_3_panel_1_prueba(data_all_women_1980_one)\n",
    "Table3_1_2=Table_3_panel_1_prueba(msample_1980_one)\n",
    "Table3_2_1=Table_3_panel_2_prueba(data_all_women_1980)\n",
    "Table3_2_2=Table_3_panel_2_prueba(msample_1980)\n",
    "\n",
    "keys = ['All women, PUMS 1980', 'Married women, PUMS 1980']\n",
    "frames1 = [Table3_1_1, Table3_1_2]\n",
    "frames2 = [Table3_2_1, Table3_2_2]\n",
    "table3_1 = pd.concat(frames1, axis=1, keys=keys) \n",
    "table3_2 = pd.concat(frames2, axis=1, keys=keys)\n",
    "table3_2"
   ]
  },
  {
   "cell_type": "code",
   "execution_count": null,
   "metadata": {},
   "outputs": [],
   "source": [
    "Table3_1_3=Table_3_panel_1(data_all_women_1990_one)\n",
    "Table3_1_4=Table_3_panel_1(msample_1990_one)\n",
    "Table3_2_3=Table_3_panel_2(data_all_women_1990)\n",
    "Table3_2_4=Table_3_panel_2(msample_1990)\n",
    "\n",
    "keys = ['All women, PUMS 1990', 'Married women, PUMS 1990']\n",
    "frames1 = [Table3_1_3, Table3_1_4]\n",
    "frames2 = [Table3_2_3, Table3_2_4]\n",
    "table3_3 = pd.concat(frames1, axis=1, keys=keys) \n",
    "table3_4 = pd.concat(frames2, axis=1, keys=keys)"
   ]
  },
  {
   "cell_type": "code",
   "execution_count": null,
   "metadata": {},
   "outputs": [],
   "source": [
    "table3_3"
   ]
  },
  {
   "cell_type": "code",
   "execution_count": null,
   "metadata": {},
   "outputs": [],
   "source": [
    "table3_4"
   ]
  },
  {
   "cell_type": "markdown",
   "metadata": {},
   "source": [
    "**Table 6 Part 1: OLS Estimates of *More than 2 children* equations for 1980 PUMS**"
   ]
  },
  {
   "cell_type": "code",
   "execution_count": null,
   "metadata": {},
   "outputs": [],
   "source": [
    "OLS_Regressions_more2k(data_all_women_1980, msample_1980)"
   ]
  },
  {
   "cell_type": "markdown",
   "metadata": {},
   "source": [
    "**Table 6 Part 2: OLS Estimates of *More than 2 children* equations for 1990 PUMS**"
   ]
  },
  {
   "cell_type": "code",
   "execution_count": null,
   "metadata": {},
   "outputs": [],
   "source": [
    "OLS_Regressions_more2k(data_all_women_1990, msample_1990)"
   ]
  },
  {
   "cell_type": "markdown",
   "metadata": {},
   "source": [
    "Table 7: "
   ]
  },
  {
   "cell_type": "code",
   "execution_count": null,
   "metadata": {},
   "outputs": [],
   "source": [
    "outcomes_labor_supply_moms=[\"workedm\", \"WEEKSM\", \"HOURSM\", \"total_incomem\", \"faminc_log\", \"nonmomi_log\"]\n",
    "outcomes_labor_supply_dads=[\"workedd\", \"WEEKSD\", \"HOURSD\", \"total_incomed\", \"faminc_log\", \"nonmomi_log\"]\n",
    "controls_OLS_moms = [\"const\", \"more2k\", 'AGEM', 'agefstm', \"boy1st\", \"boy2nd\", \"blackm\", \"hispm\", \"otheracem\"]\n",
    "controls_IV_1_moms=[\"const\", 'AGEM', 'agefstm', \"boy1st\", \"boy2nd\", \"blackm\", \"hispm\", \"otheracem\"]\n",
    "controls_IV_2_moms=[\"const\", 'AGEM', 'agefstm', \"boy1st\", \"blackm\", \"hispm\", \"otheracem\"]\n",
    "controls_OLS_dads = [\"const\", \"more2k\", 'AGED', 'agefstd', \"boy1st\", \"boy2nd\", \"blackd\", \"hispd\", \"otheraced\"]\n",
    "controls_IV_1_dads=[\"const\", 'AGED', 'agefstd', \"boy1st\", \"boy2nd\", \"blackd\", \"hispm\", \"otheraced\"]\n",
    "controls_IV_2_dads=[\"const\", 'AGED', 'agefstd', \"boy1st\", \"blackd\", \"hispd\", \"otheraced\"]"
   ]
  },
  {
   "cell_type": "code",
   "execution_count": null,
   "metadata": {},
   "outputs": [],
   "source": [
    "Table7_1=OLS_Labor_Supply_Models(data_all_women_1980, outcomes_labor_supply_moms, controls_OLS_moms, controls_IV_1_moms, controls_IV_2_moms)\n",
    "Table7_2=OLS_Labor_Supply_Models(msample_1980, outcomes_labor_supply_moms, controls_OLS_moms, controls_IV_1_moms, controls_IV_2_moms)\n",
    "Table7_3=OLS_Labor_Supply_Models(msample_1980, outcomes_labor_supply_dads, controls_OLS_dads, controls_IV_1_dads, controls_IV_2_dads)\n",
    "\n",
    "keys=[\"All women\", \"Married Women\", \"Husbands\"]\n",
    "frames=[Table7_1, Table7_2, Table7_3]\n",
    "Table7=pd.concat(frames, axis=1, keys=keys)\n",
    "Table7 = Table7.replace(np.nan, '-', regex=True)\n",
    "Table7"
   ]
  },
  {
   "cell_type": "markdown",
   "metadata": {},
   "source": [
    "Table 8"
   ]
  },
  {
   "cell_type": "code",
   "execution_count": null,
   "metadata": {},
   "outputs": [],
   "source": [
    "Table8_1=OLS_Labor_Supply_Models(data_all_women_1990, outcomes_labor_supply_moms, controls_OLS_moms, controls_IV_1_moms, controls_IV_2_moms)\n",
    "Table8_2=OLS_Labor_Supply_Models(msample_1990, outcomes_labor_supply_moms, controls_OLS_moms, controls_IV_1_moms, controls_IV_2_moms)\n",
    "Table8_3=OLS_Labor_Supply_Models(msample_1990, outcomes_labor_supply_dads, controls_OLS_dads, controls_IV_1_dads, controls_IV_2_dads)\n",
    "\n",
    "keys=[\"All women\", \"Married Women\", \"Husbands\"]\n",
    "frames=[Table8_1, Table8_2, Table8_3]\n",
    "Table8=pd.concat(frames, axis=1, keys=keys)\n",
    "Table8 = Table8.replace(np.nan, '-', regex=True)\n",
    "Table8"
   ]
  },
  {
   "cell_type": "markdown",
   "metadata": {},
   "source": [
    "Table 9"
   ]
  },
  {
   "cell_type": "code",
   "execution_count": null,
   "metadata": {},
   "outputs": [],
   "source": [
    "Interaction1=\"more2k_bottomthird\", \"more2k_middlethird\", \"more2k_upperthird\", \"more2k_lessgrad\", \"more2k_hsgrad\", \"more2k_moregrad\",    \n",
    "outcome=\"workedm\"\n",
    "Table9_1=OLS_Labor_Supply_Interactions_wifes(msample_1980, Interaction1, \"workedm\")\n",
    "\n",
    "Interaction2=\"more2k_lessgrad_earnings\", \"more2k_hsgrad_earnings\", \"more2k_moregrad_earnings\" \n",
    "outcome=\"workedm\"\n",
    "Table9_1_2=OLS_Labor_Supply_Interactions_wifes(sample_middle_third, Interaction2, \"workedm\")\n",
    "\n",
    "Interaction3=\"more2k_lessgrad_husbands\", \"more2k_hsgrad_husbands\", \"more2k_moregrad_husbands\" \n",
    "outcome=\"workedd\"\n",
    "Table9_1_3=OLS_Labor_Supply_Interactions_husbands(sample01, sample02, sample03, Interaction3, \"workedd\")\n",
    "\n",
    "frames=[Table9_1, Table9_1_2, Table9_1_3]\n",
    "Table9_OLS_worked=pd.concat(frames, axis=0)"
   ]
  },
  {
   "cell_type": "code",
   "execution_count": null,
   "metadata": {},
   "outputs": [],
   "source": [
    "Interaction4=\"samesex_bottomthird\", \"samesex_middlethird\", \"samesex_upperthird\", \"samesex_lessgrad\", \"samesex_hsgrad\", \"samesex_moregrad\",       \n",
    "outcome=\"more2k\"\n",
    "Table9_1_4=OLS_Labor_Supply_First_Stage_wifes(msample_1980, Interaction4, \"more2k\")\n",
    "\n",
    "Interaction5=\"samesex_lessgrad_earnings\", \"samesex_hsgrad_earnings\", \"samesex_moregrad_earnings\",       \n",
    "outcome=\"more2k\"\n",
    "Table9_1_5=OLS_Labor_Supply_First_Stage_wifes(sample_middle_third, Interaction5, \"more2k\")\n",
    "\n",
    "Interaction6=\"samesex_lessgrad\", \"samesex_hsgrad\", \"samesex_moregrad\",       \n",
    "outcome=\"more2k\"\n",
    "Table9_1_6=OLS_Labor_Supply_First_Stage_husbands(msample_1980, Interaction6, \"more2k\")\n",
    "\n",
    "Table9_OLS_fs=pd.concat([Table9_1_4, Table9_1_5, Table9_1_6], axis=0)\n",
    "Table9_OLS_fs.index=Table9_OLS_worked.index"
   ]
  },
  {
   "cell_type": "code",
   "execution_count": null,
   "metadata": {},
   "outputs": [],
   "source": [
    "Table9_IV_worked=IV_Labor_Supply_Interactions(msample_1980, sample_middle_third, sample01, sample02, sample03, \"workedm\", \"workedd\")"
   ]
  },
  {
   "cell_type": "markdown",
   "metadata": {},
   "source": [
    "**Table 9| Part 1 : OLS and 2SLS Estimates for Labor Supply Models with Interaction Terms Using 1980 Census Data with *Worked for pay* as dependent variable**"
   ]
  },
  {
   "cell_type": "code",
   "execution_count": null,
   "metadata": {},
   "outputs": [],
   "source": [
    "Variables1=[\"bottom_third\", \"middle_third\", \"upper_third\", \"lessgrad\", \"hsgrad\", \"moregrad\"]\n",
    "mean_1=mean_samples(msample_1980, Variables1, \"workedm\")"
   ]
  },
  {
   "cell_type": "code",
   "execution_count": null,
   "metadata": {},
   "outputs": [],
   "source": [
    "Variables2=[\"lessgrad\", \"hsgrad\", \"moregrad\"]\n",
    "mean_2=mean_samples(sample_middle_third, Variables2, \"workedm\")"
   ]
  },
  {
   "cell_type": "code",
   "execution_count": null,
   "metadata": {},
   "outputs": [],
   "source": [
    "Variables3=[\"lessgrad\", \"hsgrad\", \"moregrad\"]\n",
    "mean_3=mean_samples(msample_1980, Variables3, \"workedd\")"
   ]
  },
  {
   "cell_type": "code",
   "execution_count": null,
   "metadata": {},
   "outputs": [],
   "source": [
    "frames=[mean_1, mean_2, mean_3]\n",
    "Table9_means_1=pd.concat(frames, axis=0)\n",
    "Table9_means_1.index=Table9_OLS_worked.index"
   ]
  },
  {
   "cell_type": "code",
   "execution_count": null,
   "metadata": {},
   "outputs": [],
   "source": [
    "Table9_part1 = pd.concat([Table9_OLS_fs, Table9_means_1, Table9_OLS_worked, Table9_IV_worked], axis=1, keys=[\"First-Stage (more than 2 kids)\", \"\", \"OLS\", \"2SLS\"])\n",
    "Table9_part1"
   ]
  },
  {
   "cell_type": "markdown",
   "metadata": {},
   "source": [
    "The table reports estimates of the coefficient on *worked for pay* for both married women and husband samples (1980) in equation (4), which was modified to allow interactions with wife's schooling and husband education. Main effects for each interaction in each sample are included in the equation. Other covariates in the model are those listed in the vector $w_i$"
   ]
  },
  {
   "cell_type": "markdown",
   "metadata": {},
   "source": [
    "**Table 9| Part 2 : OLS and 2SLS Estimates for Labor Supply Models with Interaction Terms Using 1980 Census Data with *weeks worked per year* as dependent variable**"
   ]
  },
  {
   "cell_type": "code",
   "execution_count": null,
   "metadata": {},
   "outputs": [],
   "source": [
    "Interaction1=\"more2k_bottomthird\", \"more2k_middlethird\", \"more2k_upperthird\", \"more2k_lessgrad\", \"more2k_hsgrad\", \"more2k_moregrad\",   \n",
    "outcome=\"WEEKSM\"\n",
    "Table9_2=OLS_Labor_Supply_Interactions_wifes(msample_1980, Interaction1, outcome)\n",
    "\n",
    "\n",
    "Interaction2=\"more2k_lessgrad_earnings\", \"more2k_hsgrad_earnings\", \"more2k_moregrad_earnings\" \n",
    "outcome=\"WEEKSM\"\n",
    "Table9_2_2=OLS_Labor_Supply_Interactions_wifes(sample_middle_third, Interaction2, outcome)\n",
    "\n",
    "\n",
    "Interaction3=\"more2k_lessgrad_husbands\", \"more2k_hsgrad_husbands\", \"more2k_moregrad_husbands\" \n",
    "outcome=\"WEEKSD\"\n",
    "Table9_2_3=OLS_Labor_Supply_Interactions_husbands(sample01, sample02, sample03, Interaction3, outcome)\n",
    "\n",
    "frames=[Table9_2, Table9_2_2, Table9_2_3]\n",
    "Table9_OLS_worked_2=pd.concat(frames, axis=0) \n",
    "\n",
    "Table9_IV_worked_2=IV_Labor_Supply_Interactions(msample_1980, sample_middle_third, sample01, sample02, sample03, \"WEEKSM\", \"WEEKSD\")\n",
    "\n",
    "mean_4=mean_samples(msample_1980, Variables1, \"WEEKSM\")\n",
    "mean_5=mean_samples(sample_middle_third, Variables2, \"WEEKSM\")\n",
    "mean_6=mean_samples(msample_1980, Variables3, \"WEEKSD\")\n",
    "\n",
    "frames=[mean_4, mean_5, mean_6]\n",
    "Table9_means_2=pd.concat(frames, axis=0)\n",
    "Table9_means_2.index=Table9_OLS_worked_2.index"
   ]
  },
  {
   "cell_type": "code",
   "execution_count": null,
   "metadata": {},
   "outputs": [],
   "source": [
    "Table9_part2 = pd.concat([Table9_means_2, Table9_OLS_worked_2, Table9_IV_worked_2], axis=1, keys=[\"\", \"OLS\", \"2SLS\"]).round(3)\n",
    "Table9_part2"
   ]
  },
  {
   "cell_type": "markdown",
   "metadata": {},
   "source": [
    "The table reports estimates of the coefficient on *weeks worked per year* for both married women and husband samples (1980 Census Data) in equation (4), which was modified to allow interactions with wife's schooling and husband education. Main effects for each interaction in each sample are included in the equation. Other covariates in the model are those listed in the vector $w_i$"
   ]
  },
  {
   "cell_type": "markdown",
   "metadata": {},
   "source": [
    "Table 10 | Part 1"
   ]
  },
  {
   "cell_type": "code",
   "execution_count": null,
   "metadata": {},
   "outputs": [],
   "source": [
    "Table10_1=OLS_Labor_Supply_Interactions_wifes(msample_1990, Interaction1, \"workedm\")\n",
    "Table10_1_2=OLS_Labor_Supply_Interactions_wifes(sample_middle_third_1990, Interaction2, \"workedm\")\n",
    "Table10_1_3=OLS_Labor_Supply_Interactions_husbands(sample04, sample05, sample06, Interaction3, \"workedd\")\n",
    "\n",
    "frames=[Table10_1, Table10_1_2, Table10_1_3]\n",
    "Table10_OLS_worked=pd.concat(frames, axis=0)"
   ]
  },
  {
   "cell_type": "code",
   "execution_count": null,
   "metadata": {},
   "outputs": [],
   "source": [
    "Table10_1_4=OLS_Labor_Supply_First_Stage_wifes(msample_1990, Interaction4, \"more2k\")\n",
    "Table10_1_5=OLS_Labor_Supply_First_Stage_wifes(sample_middle_third_1990, Interaction5, \"more2k\")\n",
    "Table10_1_6=OLS_Labor_Supply_First_Stage_husbands(msample_1990, Interaction6, \"more2k\")\n",
    "Table10_OLS_fs=pd.concat([Table10_1_4, Table10_1_5, Table10_1_6], axis=0)\n",
    "Table10_OLS_fs.index=Table10_OLS_worked.index"
   ]
  },
  {
   "cell_type": "code",
   "execution_count": null,
   "metadata": {},
   "outputs": [],
   "source": [
    "Table10_IV_worked=IV_Labor_Supply_Interactions(msample_1990, sample_middle_third_1990, sample04, sample05, sample06, \"workedm\", \"workedd\")"
   ]
  },
  {
   "cell_type": "code",
   "execution_count": null,
   "metadata": {},
   "outputs": [],
   "source": [
    "mean_7=mean_samples(msample_1990, Variables1, \"workedm\")\n",
    "mean_8=mean_samples(sample_middle_third_1990, Variables2, \"workedm\")\n",
    "mean_9=mean_samples(msample_1990, Variables3, \"workedd\")\n",
    "frames=[mean_7, mean_8, mean_9]\n",
    "Table10_means_1=pd.concat(frames, axis=0)\n",
    "Table10_means_1.index=Table10_OLS_worked.index\n",
    "Table10_part1 = pd.concat([Table10_OLS_fs, Table10_means_1, Table10_OLS_worked, Table10_IV_worked], axis=1, keys=[\"First-Stage (more than 2 kids)\", \"\", \"OLS\", \"2SLS\"])\n",
    "Table10_part1"
   ]
  },
  {
   "cell_type": "markdown",
   "metadata": {},
   "source": [
    "**Table 10 | Part 2**"
   ]
  },
  {
   "cell_type": "code",
   "execution_count": null,
   "metadata": {},
   "outputs": [],
   "source": [
    "Table10_2=OLS_Labor_Supply_Interactions_wifes(msample_1990, Interaction1, \"WEEKSM\")\n",
    "Table10_2_2=OLS_Labor_Supply_Interactions_wifes(sample_middle_third_1990, Interaction2, \"WEEKSM\")\n",
    "Table10_2_3=OLS_Labor_Supply_Interactions_husbands(sample04, sample05, sample06, Interaction3, \"WEEKSD\")\n",
    "\n",
    "frames=[Table10_2, Table10_2_2, Table10_2_3]\n",
    "Table10_OLS_worked_2=pd.concat(frames, axis=0) \n",
    "\n",
    "Table10_IV_worked_2=IV_Labor_Supply_Interactions(msample_1990, sample_middle_third, sample04, sample05, sample06, \"WEEKSM\", \"WEEKSD\")\n",
    "\n",
    "mean_10=mean_samples(msample_1990, Variables1, \"WEEKSM\")\n",
    "mean_11=mean_samples(sample_middle_third_1990, Variables2, \"WEEKSM\")\n",
    "mean_12=mean_samples(msample_1990, Variables3, \"WEEKSD\")\n",
    "\n",
    "frames=[mean_10, mean_11, mean_12]\n",
    "Table10_means_2=pd.concat(frames, axis=0)\n",
    "Table10_means_2.index=Table10_OLS_worked_2.index"
   ]
  },
  {
   "cell_type": "code",
   "execution_count": null,
   "metadata": {},
   "outputs": [],
   "source": [
    "Table10_part2 = pd.concat([Table10_means_2, Table10_OLS_worked_2, Table10_IV_worked_2], axis=1, keys=[\"\", \"OLS\", \"2SLS\"]).round(3)\n",
    "Table10_part2"
   ]
  },
  {
   "cell_type": "markdown",
   "metadata": {},
   "source": [
    "**Table 11: Comparison of 2SLS Estimates using *Same sex* and *Twins-2* instruments in 1980 Census Data**"
   ]
  },
  {
   "cell_type": "code",
   "execution_count": null,
   "metadata": {},
   "outputs": [],
   "source": [
    "controls_IV_comp_moms=[\"const\", \"AGEM\", \"agefstm\", \"AGEQK\", \"AGEQ2ND\", \"boy1st\", \"boy2nd\", \"blackm\", \"hispm\", \"otheracem\"]\n",
    "controls_IV_comp_dads=[\"const\", \"AGED\", \"agefstd\", \"AGEQK\", \"AGEQ2ND\", \"boy1st\", \"boy2nd\", \"blackd\", \"hispd\", \"otheraced\"]\n",
    "\n",
    "Table11_1=IV_Comparison_Models(data_all_women_1980, outcomes_labor_supply_moms, controls_IV_comp_moms)\n",
    "Table11_2=IV_Comparison_Models(msample_1980, outcomes_labor_supply_moms, controls_IV_comp_moms)\n",
    "Table11_3=IV_Comparison_Models(msample_1980, outcomes_labor_supply_dads, controls_IV_comp_dads)\n",
    "Table11_3.index=Table11_1.index"
   ]
  },
  {
   "cell_type": "code",
   "execution_count": null,
   "metadata": {},
   "outputs": [],
   "source": [
    "Table11=pd.concat([Table11_1, Table11_2, Table11_3], axis=1, keys=[\"All woman\", \"Married women\", \"Husbands\"])\n",
    "Table11"
   ]
  },
  {
   "cell_type": "markdown",
   "metadata": {},
   "source": [
    "The table above reports 2SLS estimates of the coefficient of the variable *More than 2 children* in equation (4) using *Same Sex* and *Twins-2* (that is, whether the second birth corresponded to twin children) as instruments for all women, married women and husband samples (1980 Census Data). Other covariates in the model are: *Age, Age at first birth, age of first kid, age of second kid, boy1st, boy2nd, black, hispanic, and other race*. "
   ]
  },
  {
   "cell_type": "markdown",
   "metadata": {},
   "source": [
    "**Table 4: Differences in means**"
   ]
  },
  {
   "cell_type": "code",
   "execution_count": null,
   "metadata": {},
   "outputs": [],
   "source": [
    "dem_var_1980=[\"AGEM\", \"agefstm\", \"blackm\", \"whitem\", \"otheracem\", \"hispm\", \"educm\"]\n",
    "dem_var_1990=[\"AGEM\", \"agefstm\", \"blackm\", \"whitem\", \"otheracem\", \"hispm\", \"YEARSCHM\"]\n",
    "Table4_80_1=difference_means(data_all_women_1980, dem_var_1980, \"same_sex\")\n",
    "Table4_80_2=difference_means(data_all_women_1980, dem_var_1980, \"twins\")\n",
    "Table4_90=difference_means(data_all_women_1990, dem_var_1990, \"same_sex\")\n",
    "Table4_90.index=Table4_80_1.index\n",
    "Table4=pd.concat([Table4_80_1, Table4_90, Table4_80_2], axis=1, keys=[\"By same sex-1980\", \"By same sex-1990\", \"By twins-1980\"])\n",
    "Table4"
   ]
  },
  {
   "cell_type": "markdown",
   "metadata": {},
   "source": [
    "**Table 5 | Part 1: Mean Difference by Instrument**"
   ]
  },
  {
   "cell_type": "code",
   "execution_count": null,
   "metadata": {},
   "outputs": [],
   "source": [
    "outcomes_means=[\"more2k\", \"KIDCOUNT\", \"workedm\", \"WEEKSM\", \"HOURSM\", \"total_incomem\", \"faminc_log\"]\n",
    "Table5_means_1980=mean_differences_instruments(data_all_women_1980, outcomes_means)\n",
    "Table5_means_1980"
   ]
  },
  {
   "cell_type": "markdown",
   "metadata": {},
   "source": [
    "**Table 5 | Part 2: Wald Estimates of Labor Supply Models**"
   ]
  },
  {
   "cell_type": "code",
   "execution_count": null,
   "metadata": {},
   "outputs": [],
   "source": [
    "outcomes_wald_1980=[\"workedm\", \"WEEKSM\", \"HOURSM\", \"total_incomem\", \"faminc_log\"]\n",
    "Table5_1=wald_estimates_regressions(data_all_women_1980, outcomes_wald_1980, \"same_sex\")\n",
    "Table5_2=wald_estimates_regressions(data_all_women_1980, outcomes_wald_1980, \"twins\")\n",
    "Table5_1980_part2=pd.concat([Table5_1, Table5_2], axis=1, keys=[\"Wald Estimates-Same sex\", \"Wald Estimates-Twins\"])"
   ]
  },
  {
   "cell_type": "code",
   "execution_count": null,
   "metadata": {},
   "outputs": [],
   "source": [
    "Table5_1980_part2"
   ]
  },
  {
   "cell_type": "code",
   "execution_count": null,
   "metadata": {},
   "outputs": [],
   "source": [
    "outcomes_wald_1990=[\"workedm\", \"WEEKSM\", \"HOURSM\", \"total_incomem\", \"faminc_log\"]\n",
    "Table5_1990=wald_estimates_regressions(data_all_women_1990, outcomes_wald_1990, \"same_sex\")\n",
    "Table5_1990"
   ]
  },
  {
   "cell_type": "markdown",
   "metadata": {},
   "source": [
    "**EXTENSION: CAUSAL TREES**"
   ]
  },
  {
   "cell_type": "code",
   "execution_count": 8,
   "metadata": {},
   "outputs": [],
   "source": [
    "#!pip install econml\n",
    "from econml.dml import CausalForestDML\n",
    "from sklearn.model_selection import train_test_split\n",
    "from econml.grf import CausalIVForest"
   ]
  },
  {
   "cell_type": "code",
   "execution_count": 9,
   "metadata": {},
   "outputs": [],
   "source": [
    "data_all_women_1980.replace(np.nan, 0, inplace=True)\n",
    "data_all_women_1980.replace(np.inf, 0, inplace=True)"
   ]
  },
  {
   "cell_type": "code",
   "execution_count": 15,
   "metadata": {},
   "outputs": [],
   "source": [
    "# split for train and test sets for each subgroup\n",
    "#First: women with less education\n",
    "train_01, test_01 = train_test_split(sample01, test_size=0.2)"
   ]
  },
  {
   "cell_type": "code",
   "execution_count": null,
   "metadata": {},
   "outputs": [],
   "source": [
    "treatment = ['more2k']\n",
    "outcome = ['workedm']\n",
    "covariates = [\"AGEM\", \"agefstm\", \"boy1st\", \"boy2nd\", \"blackm\", \"hispm\", \"otheracem\", \"total_incomed\"]\n",
    "instruments = ['same_sex']\n",
    "\n",
    "Y_1 = train_01[outcome]\n",
    "T_1 = train_01[treatment]\n",
    "X_1 = train_01[covariates]\n",
    "Z_1 = train_01[instruments]\n",
    "X_test_1 = test_01[covariates]\n",
    "W_1 = None"
   ]
  },
  {
   "cell_type": "code",
   "execution_count": null,
   "metadata": {},
   "outputs": [],
   "source": [
    "est_01 = CausalIVForest(criterion='het', \n",
    "                     n_estimators=500,       \n",
    "                     min_samples_leaf=5, \n",
    "                     max_depth=None, \n",
    "                     max_samples=0.5,\n",
    "                     honest=True,\n",
    "                     inference=True,\n",
    "                     fit_intercept = True\n",
    "                     )\n",
    "\n",
    "est_01.fit(X_1, T_1, y=Y_1, Z=Z_1)"
   ]
  },
  {
   "cell_type": "code",
   "execution_count": null,
   "metadata": {},
   "outputs": [],
   "source": [
    "treatment_effects_01, lb_01, ub_01 = est_01.predict(X_1, interval=True, alpha=0.05)\n",
    "\n",
    "te_01 = []\n",
    "for i in range(len(treatment_effects_01)):\n",
    "    dict_te = {}\n",
    "    dict_te['cate'] = treatment_effects_01[i][0]\n",
    "    dict_te['lb'] = lb_01[i][0]\n",
    "    dict_te['ub'] = ub_01[i][0]\n",
    "    te_01.append(dict_te)\n",
    "df_te_01 = pd.DataFrame(te_01)"
   ]
  },
  {
   "cell_type": "code",
   "execution_count": null,
   "metadata": {},
   "outputs": [],
   "source": [
    "df_te_01[\"cate\"].mean()"
   ]
  },
  {
   "cell_type": "markdown",
   "metadata": {},
   "source": [
    "## Apendix: Dictionary of key variables "
   ]
  },
  {
   "cell_type": "markdown",
   "metadata": {},
   "source": [
    "#### data_2\n",
    "\n",
    "| **Name**        | **Description**                            |\n",
    "|-----------------|--------------------------------------------|\n",
    "| **index**       |                                            |\n",
    "| byr             | birth year                                 |\n",
    "| race            | ethnicity, 1 for white and 2 for nonwhite  |\n",
    "| interval        | interval of draft lottery numbers, 73 intervals with the size of five consecutive numbers        |\n",
    "| year            | year for which earnings are collected      |\n",
    "| **variables**   |                                            |\n",
    "| vmn1            | nominal earnings                           |\n",
    "| vfin1           | fraction of people with zero earnings      |\n",
    "| vnu1            | sample size                                |\n",
    "| vsd1            | standard deviation of earnings             |"
   ]
  },
  {
   "cell_type": "markdown",
   "metadata": {},
   "source": [
    "-------\n",
    "Notebook by Carolina Alvarez | GitHub profile: https://github.com/carolinalvarez.\n",
    "\n",
    "---"
   ]
  },
  {
   "cell_type": "markdown",
   "metadata": {},
   "source": [
    "# References \n",
    "\n",
    "* **Angrist, J., & Evans, W. (1998)**. *Children and Their Parents' Labor Supply: Evidence from Exogenous Variation in Family Size*, 88(3), The American Economic Review.\n",
    "\n"
   ]
  }
 ],
 "metadata": {
  "kernelspec": {
   "display_name": "Python 3",
   "language": "python",
   "name": "python3"
  },
  "language_info": {
   "codemirror_mode": {
    "name": "ipython",
    "version": 3
   },
   "file_extension": ".py",
   "mimetype": "text/x-python",
   "name": "python",
   "nbconvert_exporter": "python",
   "pygments_lexer": "ipython3",
   "version": "3.8.5"
  },
  "toc": {
   "base_numbering": 1,
   "nav_menu": {},
   "number_sections": false,
   "sideBar": true,
   "skip_h1_title": false,
   "title_cell": "Table of Contents",
   "title_sidebar": "Contents",
   "toc_cell": true,
   "toc_position": {
    "height": "622.641px",
    "left": "691px",
    "top": "110px",
    "width": "277.4px"
   },
   "toc_section_display": true,
   "toc_window_display": true
  },
  "varInspector": {
   "cols": {
    "lenName": 16,
    "lenType": 16,
    "lenVar": 40
   },
   "kernels_config": {
    "python": {
     "delete_cmd_postfix": "",
     "delete_cmd_prefix": "del ",
     "library": "var_list.py",
     "varRefreshCmd": "print(var_dic_list())"
    },
    "r": {
     "delete_cmd_postfix": ") ",
     "delete_cmd_prefix": "rm(",
     "library": "var_list.r",
     "varRefreshCmd": "cat(var_dic_list()) "
    }
   },
   "oldHeight": 189.73845400000002,
   "position": {
    "height": "478.719px",
    "left": "987.578px",
    "right": "20px",
    "top": "283.984px",
    "width": "717.172px"
   },
   "types_to_exclude": [
    "module",
    "function",
    "builtin_function_or_method",
    "instance",
    "_Feature"
   ],
   "varInspector_section_display": "block",
   "window_display": false
  }
 },
 "nbformat": 4,
 "nbformat_minor": 4
}
